{
 "cells": [
  {
   "cell_type": "code",
   "execution_count": null,
   "id": "17c78b6a",
   "metadata": {},
   "outputs": [],
   "source": [
    "import pandas as pd\n",
    "import numpy as np\n",
    "from sklearn.model_selection import train_test_split\n",
    "from sklearn.feature_extraction.text import CountVectorizer\n",
    "from sklearn.preprocessing import LabelEncoder\n",
    "from sklearn.metrics import accuracy_score\n",
    "from tensorflow.keras.models import Sequential\n",
    "from tensorflow.keras.layers import Dense"
   ]
  },
  {
   "cell_type": "code",
   "execution_count": null,
   "id": "127e9be0",
   "metadata": {},
   "outputs": [],
   "source": [
    "data=pd.read_csv('IMDB-Dataset.csv')"
   ]
  },
  {
   "cell_type": "code",
   "execution_count": null,
   "id": "30247d43",
   "metadata": {},
   "outputs": [],
   "source": [
    "data.head()"
   ]
  },
  {
   "cell_type": "code",
   "execution_count": 35,
   "id": "8b72039b",
   "metadata": {},
   "outputs": [
    {
     "data": {
      "text/plain": [
       "review       0\n",
       "sentiment    0\n",
       "dtype: int64"
      ]
     },
     "execution_count": 35,
     "metadata": {},
     "output_type": "execute_result"
    }
   ],
   "source": [
    "data.isna().sum()"
   ]
  },
  {
   "cell_type": "code",
   "execution_count": 36,
   "id": "9bbbb8a4",
   "metadata": {},
   "outputs": [],
   "source": [
    "# Preprocessing\n",
    "reviews = data['review'].astype(str)\n",
    "sentiments = data['sentiment'].astype(str)\n",
    "\n",
    "vectorizer = CountVectorizer(stop_words='english', max_features=1000)\n",
    "X = vectorizer.fit_transform(reviews).toarray()\n",
    "\n",
    "label_encoder = LabelEncoder()\n",
    "y = label_encoder.fit_transform(sentiments)"
   ]
  },
  {
   "cell_type": "code",
   "execution_count": 37,
   "id": "7fc03ae5",
   "metadata": {},
   "outputs": [
    {
     "name": "stdout",
     "output_type": "stream",
     "text": [
      "WARNING:tensorflow:From C:\\Users\\LENOVO\\anaconda3\\lib\\site-packages\\keras\\src\\backend.py:873: The name tf.get_default_graph is deprecated. Please use tf.compat.v1.get_default_graph instead.\n",
      "\n",
      "WARNING:tensorflow:From C:\\Users\\LENOVO\\anaconda3\\lib\\site-packages\\keras\\src\\optimizers\\__init__.py:309: The name tf.train.Optimizer is deprecated. Please use tf.compat.v1.train.Optimizer instead.\n",
      "\n",
      "Epoch 1/10\n",
      "WARNING:tensorflow:From C:\\Users\\LENOVO\\anaconda3\\lib\\site-packages\\keras\\src\\utils\\tf_utils.py:492: The name tf.ragged.RaggedTensorValue is deprecated. Please use tf.compat.v1.ragged.RaggedTensorValue instead.\n",
      "\n",
      "WARNING:tensorflow:From C:\\Users\\LENOVO\\anaconda3\\lib\\site-packages\\keras\\src\\engine\\base_layer_utils.py:384: The name tf.executing_eagerly_outside_functions is deprecated. Please use tf.compat.v1.executing_eagerly_outside_functions instead.\n",
      "\n",
      "1250/1250 [==============================] - 32s 9ms/step - loss: 0.3740 - accuracy: 0.8404 - val_loss: 0.3298 - val_accuracy: 0.8608\n",
      "Epoch 2/10\n",
      "1250/1250 [==============================] - 8s 6ms/step - loss: 0.3115 - accuracy: 0.8682 - val_loss: 0.3243 - val_accuracy: 0.8633\n",
      "Epoch 3/10\n",
      "1250/1250 [==============================] - 7s 6ms/step - loss: 0.2721 - accuracy: 0.8869 - val_loss: 0.3240 - val_accuracy: 0.8629\n",
      "Epoch 4/10\n",
      "1250/1250 [==============================] - 8s 7ms/step - loss: 0.2296 - accuracy: 0.9089 - val_loss: 0.3400 - val_accuracy: 0.8596\n",
      "Epoch 5/10\n",
      "1250/1250 [==============================] - 8s 6ms/step - loss: 0.1860 - accuracy: 0.9297 - val_loss: 0.3597 - val_accuracy: 0.8527\n",
      "Epoch 6/10\n",
      "1250/1250 [==============================] - 8s 6ms/step - loss: 0.1431 - accuracy: 0.9509 - val_loss: 0.3974 - val_accuracy: 0.8509\n",
      "Epoch 7/10\n",
      "1250/1250 [==============================] - 7s 5ms/step - loss: 0.1054 - accuracy: 0.9673 - val_loss: 0.4454 - val_accuracy: 0.8417\n",
      "Epoch 8/10\n",
      "1250/1250 [==============================] - 7s 6ms/step - loss: 0.0738 - accuracy: 0.9805 - val_loss: 0.4898 - val_accuracy: 0.8424\n",
      "Epoch 9/10\n",
      "1250/1250 [==============================] - 7s 5ms/step - loss: 0.0502 - accuracy: 0.9885 - val_loss: 0.5439 - val_accuracy: 0.8414\n",
      "Epoch 10/10\n",
      "1250/1250 [==============================] - 7s 5ms/step - loss: 0.0335 - accuracy: 0.9940 - val_loss: 0.6147 - val_accuracy: 0.8381\n",
      "Test Accuracy: 83.81%\n"
     ]
    }
   ],
   "source": [
    "# Split data into train and test sets\n",
    "X_train, X_test, y_train, y_test = train_test_split(X, y, test_size=0.2, random_state=42)\n",
    "\n",
    "# Define model\n",
    "model = Sequential([\n",
    "    Dense(64, activation='relu', input_shape=(X_train.shape[1],)),\n",
    "    Dense(1, activation='sigmoid')\n",
    "])\n",
    "\n",
    "# Compile model\n",
    "model.compile(optimizer='adam', loss='binary_crossentropy', metrics=['accuracy'])\n",
    "\n",
    "# Train model\n",
    "model.fit(X_train, y_train, epochs=10, batch_size=32, validation_data=(X_test, y_test), verbose=1)\n",
    "\n",
    "# Evaluate model\n",
    "loss, accuracy = model.evaluate(X_test, y_test, verbose=0)\n",
    "print(f\"Test Accuracy: {accuracy*100:.2f}%\")"
   ]
  },
  {
   "cell_type": "code",
   "execution_count": 42,
   "id": "921889a1",
   "metadata": {},
   "outputs": [
    {
     "name": "stderr",
     "output_type": "stream",
     "text": [
      "C:\\Users\\LENOVO\\anaconda3\\lib\\site-packages\\keras\\src\\engine\\training.py:3103: UserWarning: You are saving your model as an HDF5 file via `model.save()`. This file format is considered legacy. We recommend using instead the native Keras format, e.g. `model.save('my_model.keras')`.\n",
      "  saving_api.save_model(\n"
     ]
    }
   ],
   "source": [
    "# Save the trained model\n",
    "model.save('sentiment_analysis_model.h5')\n"
   ]
  },
  {
   "cell_type": "code",
   "execution_count": null,
   "id": "9059be11",
   "metadata": {},
   "outputs": [],
   "source": []
  },
  {
   "cell_type": "code",
   "execution_count": null,
   "id": "80b0f147",
   "metadata": {},
   "outputs": [],
   "source": [
    "import numpy as np\n",
    "from tensorflow.keras.models import load_model\n",
    "from sklearn.feature_extraction.text import CountVectorizer\n",
    "from sklearn.preprocessing import LabelEncoder\n",
    "\n",
    "def preprocess_text(text):\n",
    "    # Preprocess the input text\n",
    "    vectorized_text = vectorizer.transform([text])\n",
    "    return vectorized_text\n",
    "\n",
    "def predict_sentiment(model, preprocessed_text):\n",
    "    # Predict sentiment\n",
    "    prediction = model.predict(preprocessed_text)\n",
    "    if prediction >= 0.5:\n",
    "        return \"Positive\"\n",
    "    else:\n",
    "        return \"Negative\"\n",
    "\n",
    "# Load the pre-trained model\n",
    "model = load_model('sentiment_analysis_model.h5')\n",
    "\n",
    "# Load the CountVectorizer and LabelEncoder\n",
    "vectorizer = CountVectorizer(stop_words='english', max_features=1000)\n",
    "vectorizer = vectorizer.fit(data['review'])\n",
    "label_encoder = LabelEncoder()\n",
    "label_encoder = label_encoder.fit(data['sentiment'])\n",
    "\n",
    "# Example usage\n",
    "while True:\n",
    "    review = input(\"The movie is nothing to write about: \")\n",
    "    if review.lower() == 'exit':\n",
    "        break\n",
    "    preprocessed_review = preprocess_text(review)\n",
    "    sentiment = predict_sentiment(model, preprocessed_review)\n",
    "    print(f\"Predicted Sentiment: {sentiment}\")\n"
   ]
  },
  {
   "cell_type": "code",
   "execution_count": null,
   "id": "2ba7b5c3",
   "metadata": {},
   "outputs": [],
   "source": [
    "y=3\n",
    "y"
   ]
  },
  {
   "cell_type": "code",
   "execution_count": null,
   "id": "2fd0fd18",
   "metadata": {},
   "outputs": [],
   "source": []
  }
 ],
 "metadata": {
  "kernelspec": {
   "display_name": "Python 3 (ipykernel)",
   "language": "python",
   "name": "python3"
  },
  "language_info": {
   "codemirror_mode": {
    "name": "ipython",
    "version": 3
   },
   "file_extension": ".py",
   "mimetype": "text/x-python",
   "name": "python",
   "nbconvert_exporter": "python",
   "pygments_lexer": "ipython3",
   "version": "3.9.7"
  }
 },
 "nbformat": 4,
 "nbformat_minor": 5
}
